{
 "cells": [
  {
   "cell_type": "markdown",
   "id": "0d702002-559e-4677-a3ab-1c458aa2c05b",
   "metadata": {},
   "source": [
    "# Q1"
   ]
  },
  {
   "cell_type": "markdown",
   "id": "28bf3a3e-d043-45c0-a864-b46212a10cc6",
   "metadata": {
    "jp-MarkdownHeadingCollapsed": true
   },
   "source": [
    "In this problem, we looking for number of ways to combine u's and r's.\n",
    "So, we just need to choose 3 steps out of total 7 steps to be up, and the remaining steps will be right.\n",
    "\n",
    "\\begin{equation*}\n",
    "C(7,3) = \\binom{7}{3}\n",
    "       = \\frac{7!}{(7-3)! \\times 3!} \n",
    "       = \\frac{7!}{4! \\times 3!}\n",
    "       = 35\n",
    "\\end{equation*}\n",
    "\n",
    "Thus, there are total **35** paths from A to B."
   ]
  },
  {
   "cell_type": "markdown",
   "id": "26deb15b-e920-47a7-825c-8e5bbde3bfdf",
   "metadata": {},
   "source": [
    "# Q2"
   ]
  },
  {
   "cell_type": "markdown",
   "id": "c2414209-2f55-451c-a1da-c4b358a001c1",
   "metadata": {},
   "source": [
    "### Q2.1 \n",
    "In this problem, order doesn't matter. So, looking for combinations.\n",
    "Since,\n",
    "\\begin{equation*}\n",
    "P(A) = \\frac{\\text{Number of outcomes favorable to event A}}{\\text{Total number of outcomes}} \n",
    "\\end{equation*}\n",
    "\n",
    "The probability of k devices being occupied is\n",
    "\\begin{equation*}\n",
    "P(k) = \\frac{\\text{Numbers of combination of choosing k devices}}{ \\text{Total number of combinations in all cases}} \n",
    "\\end{equation*}\n",
    "So the total number of combinations: \n",
    "\\begin{equation*}\n",
    "Total = \\binom{6}{0} + \\binom{6}{1} + \\binom{6}{2} + \\binom{6}{3} + \\binom{6}{4} + \\binom{6}{5} + \\binom{6}{6} \n",
    "      = 1 + 6 + 15 + 20 + 15 + 6 + 1\n",
    "      = 64\n",
    "\\end{equation*}\n",
    "\n",
    "The number of devices being used is r = 2 or 3 or 4 or 5.\n",
    "\n",
    "Thus, \n",
    "\\begin{equation*}\n",
    "P(k) = \\frac{\\binom{6}{k}} {\\text{Total}} \n",
    "\\end{equation*}\n",
    "\n",
    "When $k = 2$, \n",
    "\\begin{equation*}\n",
    "P(2) = \\frac {15}{64}\n",
    "\\end{equation*}\n",
    "\n",
    "When $k = 3$, \n",
    "\\begin{equation*}\n",
    "P(3) = \\frac {5}{16}\n",
    "\\end{equation*}\n",
    "\n",
    "When $k = 4$, \n",
    "\\begin{equation*}\n",
    "P(4) = \\frac {15}{64}\n",
    "\\end{equation*}\n",
    "\n",
    "When $k = 5$, \n",
    "\\begin{equation*}\n",
    "P(5) = \\frac {3}{32}\n",
    "\\end{equation*}\n",
    "\n",
    "Thus, for $2 \\leq k \\leq 5$, \n",
    "\\begin{equation*}\n",
    "P(k) = P(2)+P(3)+P(4)+P(5)\n",
    "     = \\frac {15}{64} + \\frac {5}{16} + \\frac {15}{64} + \\frac {3}{32} = \\frac {7}{8}\n",
    "\\end{equation*}\n",
    "\n",
    "   "
   ]
  },
  {
   "cell_type": "markdown",
   "id": "470b2a57-5f89-4cd2-aed9-391e095042ed",
   "metadata": {},
   "source": [
    "### Q2.2\n",
    "For \"At least one buffer is occupied\", which equals to 1 - P(0). (Since they are complementary)\n",
    "\n",
    "So, when $k = 0$, none device is occupied,\n",
    "\\begin{equation*}\n",
    "P(0) = \\frac {\\binom{6}{0}} {64} \\\\\n",
    "     = \\frac {1}{64}\n",
    "\\end{equation*}\n",
    "\n",
    "Thus, the probability of  \"At least one buffer is occupied\" is (for $1 \\leq k \\leq 6$)\n",
    "\\begin{equation*}\n",
    "P(\\text{At least one buffer is occupied}) = 1-P(0)= P(k) = 1 - \\frac {1}{64} = \\frac{63}{64}\n",
    "\\end{equation*}"
   ]
  },
  {
   "cell_type": "markdown",
   "id": "d5607c98-b57e-42b9-ab4b-a759d7632190",
   "metadata": {},
   "source": [
    "# Q3"
   ]
  },
  {
   "cell_type": "markdown",
   "id": "8059beaa-e1e4-4d73-a60f-cd510243705a",
   "metadata": {},
   "source": [
    "### Q3.1\n",
    "So, in this case, each song should be distinct and songs' order matters.\n",
    "The probability that the first Cake song heard is the 5th song played: \n",
    "\\begin{equation*}\n",
    "P(\\text{the first Cake song heard is the 5th song played}) = \\frac{90 \\times 89 \\times 88 \\times 87 \\times 10}{100 \\times 99 \\times 98 \\times 97 \\times 96} = 0.067878 = 6.79 \\%\n",
    "\\end{equation*}\n"
   ]
  },
  {
   "cell_type": "markdown",
   "id": "6fc2314a-de18-40c6-a9e0-7831f68eea64",
   "metadata": {},
   "source": [
    "### Q3.2"
   ]
  },
  {
   "cell_type": "code",
   "execution_count": 2,
   "id": "7b971b6a-c9f8-4550-8da9-a5350d5e2de7",
   "metadata": {
    "vscode": {
     "languageId": "r"
    }
   },
   "outputs": [
    {
     "name": "stdout",
     "output_type": "stream",
     "text": [
      "[1] 0.0686\n"
     ]
    }
   ],
   "source": [
    "set.seed(123)\n",
    "total_songs = 100 \n",
    "shuffle_times = 10000 \n",
    "x = numeric(shuffle_times)\n",
    "for(k in 1:shuffle_times){\n",
    "    shuffled_songs = sample(1:100, total_songs, replace = FALSE) \n",
    "    # lets say cake's song in range of [1,10]  \n",
    "    if((1 <= shuffled_songs[5] && shuffled_songs[5] <= 10) && shuffled_songs[1] > 10 && shuffled_songs[2] > 10 && shuffled_songs[3] > 10 && shuffled_songs[4] > 10){\n",
    "        x[k] = 1  # record if it meets the condition\n",
    "    } \n",
    "}\n",
    "p <- mean(x == 1);  #the probability of \n",
    "                    #the first Cake song heard is the 5th song played\n",
    "print(p)\n"
   ]
  },
  {
   "cell_type": "markdown",
   "id": "672e4641-e717-4a68-8013-15c8ee1d42bc",
   "metadata": {},
   "source": [
    "# Q4"
   ]
  },
  {
   "cell_type": "markdown",
   "id": "8a0ab1de-66ea-4e44-9e13-e0182646976c",
   "metadata": {},
   "source": [
    "In this question, \"how many different ways to arrange the songs\" = \"how many combinations of songs in all the drivers.\"\n",
    "\n",
    "Thus, in the first driver, choosing 20 songs from total 100 songs:\n",
    "\\begin{equation*}\n",
    "C1 = \\binom{100}{20}    \n",
    "\\end{equation*}\n",
    "\n",
    "The second drive, choosing 30 songs from(100 - 20 =) 80 songs:\n",
    "\\begin{equation*}\n",
    "C2 = \\binom{80}{30}    \n",
    "\\end{equation*}\n",
    "\n",
    "The third drive, choosing 40 songs from(80 - 30 =) 50 songs:\n",
    "\\begin{equation*}\n",
    "C3 = \\binom{50}{40}    \n",
    "\\end{equation*}\n",
    "\n",
    "The second drive, choosing 10 songs from(50 - 40 =) 10 songs:\n",
    "\\begin{equation*}\n",
    "C4 = \\binom{10}{10}    \n",
    "\\end{equation*}\n",
    "\n",
    "Therefore, the total ways to arrange songs is:\n",
    "\\begin{equation*}\n",
    "C = \\binom{100}{20} \\times \\binom{80}{30} \\times \\binom{50}{40} \\times \\binom{10}{10} \\\\\n",
    "  = \\frac{100!}{20! \\times 80!} \\times \\frac{80!}{30! \\times 50!} \\times \\frac{50!}{40! \\times 10!} \\times \\frac{10!}{0! \\times 10!} \\\\\n",
    "  = \\frac {100!}{20! \\times 30! \\times 40! \\times 10!}\\\\\n",
    "  \\approx 4.88 \\times 10^{52}\n",
    "\\end{equation*}\n",
    "\n"
   ]
  },
  {
   "cell_type": "markdown",
   "id": "d3fc1f23-fd33-4c7b-9ef7-719ce85da15a",
   "metadata": {},
   "source": [
    "# Q5"
   ]
  },
  {
   "cell_type": "markdown",
   "id": "689b2071-901f-4e8c-a366-2b9d08ac73ef",
   "metadata": {},
   "source": [
    "Let's denote, \n",
    "\n",
    "$P(A)$ = the probability that program will access the first location = $0.5$\n",
    "\n",
    "$P(B)$ = the probability that program will access the second location = $0.4$\n",
    "\n",
    "$P(A \\cap B)$ = the probability that program will access both locations = $0.3$\n",
    "\n",
    "Thus, the probability that program will access neither locations = $P(\\overline {A \\cup B})$ = 1 - $P(A \\cup B)$\n",
    "\n",
    "Since $P(A \\cup B)$ = $P(A)$ + $P(B)$ - $P(A \\cap B)$ \n",
    "                    = $0.5$ + $0.4$ - $0.3$\n",
    "                    = $0.6$\n",
    "\n",
    "Thus, the probability that program will access neither locations = $P(\\overline {A \\cup B})$ = 1 - $P(A \\cup B)$ = 1 - 0.6 = $0.4$"
   ]
  },
  {
   "cell_type": "markdown",
   "id": "0bfefba7-512b-4031-b807-ec0472dbb0d8",
   "metadata": {},
   "source": [
    "# Q6"
   ]
  },
  {
   "cell_type": "markdown",
   "id": "b236f52e-505b-464f-b3e4-51cffd8f52ee",
   "metadata": {},
   "source": [
    "**John is more probable to be a computer scientist. (Scenario A is more probable than Scenario B)**.\n",
    "\n",
    "Scenario A with only condition is that John is a Computer scientist, while Scenario B has two conditions: Computer scientist and environmental activist.\n",
    "\n",
    "So, we can consider that scenario A is a set of computer scientist with or with out any other positions. \n",
    "\n",
    "Thus, scenario B will be the subset of A.\n",
    "\n",
    "Scenario B is less probable than scenario A."
   ]
  },
  {
   "cell_type": "code",
   "execution_count": null,
   "id": "f591b16a-e1ad-4f49-a43f-24e2b359f570",
   "metadata": {
    "vscode": {
     "languageId": "r"
    }
   },
   "outputs": [],
   "source": []
  }
 ],
 "metadata": {
  "kernelspec": {
   "display_name": "R",
   "language": "R",
   "name": "ir"
  },
  "language_info": {
   "codemirror_mode": "r",
   "file_extension": ".r",
   "mimetype": "text/x-r-source",
   "name": "R",
   "pygments_lexer": "r",
   "version": "3.6.1"
  }
 },
 "nbformat": 4,
 "nbformat_minor": 5
}
